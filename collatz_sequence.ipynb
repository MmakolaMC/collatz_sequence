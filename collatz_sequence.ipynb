{
 "cells": [
  {
   "cell_type": "code",
   "execution_count": 1,
   "id": "c9c6dcf6",
   "metadata": {},
   "outputs": [],
   "source": [
    "def collatzSequence(number):\n",
    "    # Return a collazSequence\n",
    "    \n",
    "    if number == 1: \n",
    "        return\n",
    "    \n",
    "    elif number <= 0:\n",
    "        return\n",
    "    \n",
    "    if number % 2 == 0:\n",
    "        new_number = int(number / 2)\n",
    "        print(new_number)\n",
    "        \n",
    "    elif number % 2 > 0:\n",
    "        new_number = (number * 3) + 1\n",
    "        print(new_number)\n",
    "        \n",
    "    return collatzSequence(new_number)"
   ]
  },
  {
   "cell_type": "code",
   "execution_count": 2,
   "id": "1bbc818b",
   "metadata": {},
   "outputs": [
    {
     "name": "stdout",
     "output_type": "stream",
     "text": [
      "Enter any digit: 26\n",
      "13\n",
      "40\n",
      "20\n",
      "10\n",
      "5\n",
      "16\n",
      "8\n",
      "4\n",
      "2\n",
      "1\n"
     ]
    }
   ],
   "source": [
    "n = int(input('Enter any digit: '))\n",
    "\n",
    "collatzSequence(n)"
   ]
  }
 ],
 "metadata": {
  "kernelspec": {
   "display_name": "Python 3 (ipykernel)",
   "language": "python",
   "name": "python3"
  },
  "language_info": {
   "codemirror_mode": {
    "name": "ipython",
    "version": 3
   },
   "file_extension": ".py",
   "mimetype": "text/x-python",
   "name": "python",
   "nbconvert_exporter": "python",
   "pygments_lexer": "ipython3",
   "version": "3.9.12"
  }
 },
 "nbformat": 4,
 "nbformat_minor": 5
}
